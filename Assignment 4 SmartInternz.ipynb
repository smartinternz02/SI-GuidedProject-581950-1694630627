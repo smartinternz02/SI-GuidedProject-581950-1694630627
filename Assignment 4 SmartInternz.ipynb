{
 "cells": [
  {
   "cell_type": "code",
   "execution_count": 86,
   "id": "9ec0c873",
   "metadata": {},
   "outputs": [],
   "source": [
    "# import required libraries\n",
    "\n",
    "import pandas as pd\n",
    "import numpy as np\n",
    "import matplotlib.pyplot as plt\n",
    "import seaborn as sns"
   ]
  },
  {
   "cell_type": "code",
   "execution_count": 87,
   "id": "03000d51",
   "metadata": {},
   "outputs": [
    {
     "data": {
      "text/html": [
       "<div>\n",
       "<style scoped>\n",
       "    .dataframe tbody tr th:only-of-type {\n",
       "        vertical-align: middle;\n",
       "    }\n",
       "\n",
       "    .dataframe tbody tr th {\n",
       "        vertical-align: top;\n",
       "    }\n",
       "\n",
       "    .dataframe thead th {\n",
       "        text-align: right;\n",
       "    }\n",
       "</style>\n",
       "<table border=\"1\" class=\"dataframe\">\n",
       "  <thead>\n",
       "    <tr style=\"text-align: right;\">\n",
       "      <th></th>\n",
       "      <th>fixed acidity</th>\n",
       "      <th>volatile acidity</th>\n",
       "      <th>citric acid</th>\n",
       "      <th>residual sugar</th>\n",
       "      <th>chlorides</th>\n",
       "      <th>free sulfur dioxide</th>\n",
       "      <th>total sulfur dioxide</th>\n",
       "      <th>density</th>\n",
       "      <th>pH</th>\n",
       "      <th>sulphates</th>\n",
       "      <th>alcohol</th>\n",
       "      <th>quality</th>\n",
       "    </tr>\n",
       "  </thead>\n",
       "  <tbody>\n",
       "    <tr>\n",
       "      <th>0</th>\n",
       "      <td>7.4</td>\n",
       "      <td>0.70</td>\n",
       "      <td>0.00</td>\n",
       "      <td>1.9</td>\n",
       "      <td>0.076</td>\n",
       "      <td>11.0</td>\n",
       "      <td>34.0</td>\n",
       "      <td>0.9978</td>\n",
       "      <td>3.51</td>\n",
       "      <td>0.56</td>\n",
       "      <td>9.4</td>\n",
       "      <td>5</td>\n",
       "    </tr>\n",
       "    <tr>\n",
       "      <th>1</th>\n",
       "      <td>7.8</td>\n",
       "      <td>0.88</td>\n",
       "      <td>0.00</td>\n",
       "      <td>2.6</td>\n",
       "      <td>0.098</td>\n",
       "      <td>25.0</td>\n",
       "      <td>67.0</td>\n",
       "      <td>0.9968</td>\n",
       "      <td>3.20</td>\n",
       "      <td>0.68</td>\n",
       "      <td>9.8</td>\n",
       "      <td>5</td>\n",
       "    </tr>\n",
       "    <tr>\n",
       "      <th>2</th>\n",
       "      <td>7.8</td>\n",
       "      <td>0.76</td>\n",
       "      <td>0.04</td>\n",
       "      <td>2.3</td>\n",
       "      <td>0.092</td>\n",
       "      <td>15.0</td>\n",
       "      <td>54.0</td>\n",
       "      <td>0.9970</td>\n",
       "      <td>3.26</td>\n",
       "      <td>0.65</td>\n",
       "      <td>9.8</td>\n",
       "      <td>5</td>\n",
       "    </tr>\n",
       "    <tr>\n",
       "      <th>3</th>\n",
       "      <td>11.2</td>\n",
       "      <td>0.28</td>\n",
       "      <td>0.56</td>\n",
       "      <td>1.9</td>\n",
       "      <td>0.075</td>\n",
       "      <td>17.0</td>\n",
       "      <td>60.0</td>\n",
       "      <td>0.9980</td>\n",
       "      <td>3.16</td>\n",
       "      <td>0.58</td>\n",
       "      <td>9.8</td>\n",
       "      <td>6</td>\n",
       "    </tr>\n",
       "    <tr>\n",
       "      <th>4</th>\n",
       "      <td>7.4</td>\n",
       "      <td>0.70</td>\n",
       "      <td>0.00</td>\n",
       "      <td>1.9</td>\n",
       "      <td>0.076</td>\n",
       "      <td>11.0</td>\n",
       "      <td>34.0</td>\n",
       "      <td>0.9978</td>\n",
       "      <td>3.51</td>\n",
       "      <td>0.56</td>\n",
       "      <td>9.4</td>\n",
       "      <td>5</td>\n",
       "    </tr>\n",
       "  </tbody>\n",
       "</table>\n",
       "</div>"
      ],
      "text/plain": [
       "   fixed acidity  volatile acidity  citric acid  residual sugar  chlorides  \\\n",
       "0            7.4              0.70         0.00             1.9      0.076   \n",
       "1            7.8              0.88         0.00             2.6      0.098   \n",
       "2            7.8              0.76         0.04             2.3      0.092   \n",
       "3           11.2              0.28         0.56             1.9      0.075   \n",
       "4            7.4              0.70         0.00             1.9      0.076   \n",
       "\n",
       "   free sulfur dioxide  total sulfur dioxide  density    pH  sulphates  \\\n",
       "0                 11.0                  34.0   0.9978  3.51       0.56   \n",
       "1                 25.0                  67.0   0.9968  3.20       0.68   \n",
       "2                 15.0                  54.0   0.9970  3.26       0.65   \n",
       "3                 17.0                  60.0   0.9980  3.16       0.58   \n",
       "4                 11.0                  34.0   0.9978  3.51       0.56   \n",
       "\n",
       "   alcohol  quality  \n",
       "0      9.4        5  \n",
       "1      9.8        5  \n",
       "2      9.8        5  \n",
       "3      9.8        6  \n",
       "4      9.4        5  "
      ]
     },
     "execution_count": 87,
     "metadata": {},
     "output_type": "execute_result"
    }
   ],
   "source": [
    "df = pd.read_csv('winequality-red.csv')\n",
    "df.head()\n"
   ]
  },
  {
   "cell_type": "code",
   "execution_count": 88,
   "id": "e4c535d8",
   "metadata": {},
   "outputs": [
    {
     "data": {
      "text/plain": [
       "(1599, 12)"
      ]
     },
     "execution_count": 88,
     "metadata": {},
     "output_type": "execute_result"
    }
   ],
   "source": [
    "df.shape"
   ]
  },
  {
   "cell_type": "code",
   "execution_count": 89,
   "id": "1df3545a",
   "metadata": {},
   "outputs": [
    {
     "name": "stdout",
     "output_type": "stream",
     "text": [
      "<class 'pandas.core.frame.DataFrame'>\n",
      "RangeIndex: 1599 entries, 0 to 1598\n",
      "Data columns (total 12 columns):\n",
      " #   Column                Non-Null Count  Dtype  \n",
      "---  ------                --------------  -----  \n",
      " 0   fixed acidity         1599 non-null   float64\n",
      " 1   volatile acidity      1599 non-null   float64\n",
      " 2   citric acid           1599 non-null   float64\n",
      " 3   residual sugar        1599 non-null   float64\n",
      " 4   chlorides             1599 non-null   float64\n",
      " 5   free sulfur dioxide   1599 non-null   float64\n",
      " 6   total sulfur dioxide  1599 non-null   float64\n",
      " 7   density               1599 non-null   float64\n",
      " 8   pH                    1599 non-null   float64\n",
      " 9   sulphates             1599 non-null   float64\n",
      " 10  alcohol               1599 non-null   float64\n",
      " 11  quality               1599 non-null   int64  \n",
      "dtypes: float64(11), int64(1)\n",
      "memory usage: 150.0 KB\n"
     ]
    }
   ],
   "source": [
    "df.info()"
   ]
  },
  {
   "cell_type": "code",
   "execution_count": 90,
   "id": "f23732d9",
   "metadata": {},
   "outputs": [
    {
     "data": {
      "text/plain": [
       "fixed acidity           0\n",
       "volatile acidity        0\n",
       "citric acid             0\n",
       "residual sugar          0\n",
       "chlorides               0\n",
       "free sulfur dioxide     0\n",
       "total sulfur dioxide    0\n",
       "density                 0\n",
       "pH                      0\n",
       "sulphates               0\n",
       "alcohol                 0\n",
       "quality                 0\n",
       "dtype: int64"
      ]
     },
     "execution_count": 90,
     "metadata": {},
     "output_type": "execute_result"
    }
   ],
   "source": [
    "df.isnull().sum()"
   ]
  },
  {
   "cell_type": "code",
   "execution_count": 91,
   "id": "55d2f5fc",
   "metadata": {},
   "outputs": [
    {
     "data": {
      "text/html": [
       "<div>\n",
       "<style scoped>\n",
       "    .dataframe tbody tr th:only-of-type {\n",
       "        vertical-align: middle;\n",
       "    }\n",
       "\n",
       "    .dataframe tbody tr th {\n",
       "        vertical-align: top;\n",
       "    }\n",
       "\n",
       "    .dataframe thead th {\n",
       "        text-align: right;\n",
       "    }\n",
       "</style>\n",
       "<table border=\"1\" class=\"dataframe\">\n",
       "  <thead>\n",
       "    <tr style=\"text-align: right;\">\n",
       "      <th></th>\n",
       "      <th>fixed acidity</th>\n",
       "      <th>volatile acidity</th>\n",
       "      <th>citric acid</th>\n",
       "      <th>residual sugar</th>\n",
       "      <th>chlorides</th>\n",
       "      <th>free sulfur dioxide</th>\n",
       "      <th>total sulfur dioxide</th>\n",
       "      <th>density</th>\n",
       "      <th>pH</th>\n",
       "      <th>sulphates</th>\n",
       "      <th>alcohol</th>\n",
       "      <th>quality</th>\n",
       "    </tr>\n",
       "  </thead>\n",
       "  <tbody>\n",
       "    <tr>\n",
       "      <th>count</th>\n",
       "      <td>1599.000000</td>\n",
       "      <td>1599.000000</td>\n",
       "      <td>1599.000000</td>\n",
       "      <td>1599.000000</td>\n",
       "      <td>1599.000000</td>\n",
       "      <td>1599.000000</td>\n",
       "      <td>1599.000000</td>\n",
       "      <td>1599.000000</td>\n",
       "      <td>1599.000000</td>\n",
       "      <td>1599.000000</td>\n",
       "      <td>1599.000000</td>\n",
       "      <td>1599.000000</td>\n",
       "    </tr>\n",
       "    <tr>\n",
       "      <th>mean</th>\n",
       "      <td>8.319637</td>\n",
       "      <td>0.527821</td>\n",
       "      <td>0.270976</td>\n",
       "      <td>2.538806</td>\n",
       "      <td>0.087467</td>\n",
       "      <td>15.874922</td>\n",
       "      <td>46.467792</td>\n",
       "      <td>0.996747</td>\n",
       "      <td>3.311113</td>\n",
       "      <td>0.658149</td>\n",
       "      <td>10.422983</td>\n",
       "      <td>5.636023</td>\n",
       "    </tr>\n",
       "    <tr>\n",
       "      <th>std</th>\n",
       "      <td>1.741096</td>\n",
       "      <td>0.179060</td>\n",
       "      <td>0.194801</td>\n",
       "      <td>1.409928</td>\n",
       "      <td>0.047065</td>\n",
       "      <td>10.460157</td>\n",
       "      <td>32.895324</td>\n",
       "      <td>0.001887</td>\n",
       "      <td>0.154386</td>\n",
       "      <td>0.169507</td>\n",
       "      <td>1.065668</td>\n",
       "      <td>0.807569</td>\n",
       "    </tr>\n",
       "    <tr>\n",
       "      <th>min</th>\n",
       "      <td>4.600000</td>\n",
       "      <td>0.120000</td>\n",
       "      <td>0.000000</td>\n",
       "      <td>0.900000</td>\n",
       "      <td>0.012000</td>\n",
       "      <td>1.000000</td>\n",
       "      <td>6.000000</td>\n",
       "      <td>0.990070</td>\n",
       "      <td>2.740000</td>\n",
       "      <td>0.330000</td>\n",
       "      <td>8.400000</td>\n",
       "      <td>3.000000</td>\n",
       "    </tr>\n",
       "    <tr>\n",
       "      <th>25%</th>\n",
       "      <td>7.100000</td>\n",
       "      <td>0.390000</td>\n",
       "      <td>0.090000</td>\n",
       "      <td>1.900000</td>\n",
       "      <td>0.070000</td>\n",
       "      <td>7.000000</td>\n",
       "      <td>22.000000</td>\n",
       "      <td>0.995600</td>\n",
       "      <td>3.210000</td>\n",
       "      <td>0.550000</td>\n",
       "      <td>9.500000</td>\n",
       "      <td>5.000000</td>\n",
       "    </tr>\n",
       "    <tr>\n",
       "      <th>50%</th>\n",
       "      <td>7.900000</td>\n",
       "      <td>0.520000</td>\n",
       "      <td>0.260000</td>\n",
       "      <td>2.200000</td>\n",
       "      <td>0.079000</td>\n",
       "      <td>14.000000</td>\n",
       "      <td>38.000000</td>\n",
       "      <td>0.996750</td>\n",
       "      <td>3.310000</td>\n",
       "      <td>0.620000</td>\n",
       "      <td>10.200000</td>\n",
       "      <td>6.000000</td>\n",
       "    </tr>\n",
       "    <tr>\n",
       "      <th>75%</th>\n",
       "      <td>9.200000</td>\n",
       "      <td>0.640000</td>\n",
       "      <td>0.420000</td>\n",
       "      <td>2.600000</td>\n",
       "      <td>0.090000</td>\n",
       "      <td>21.000000</td>\n",
       "      <td>62.000000</td>\n",
       "      <td>0.997835</td>\n",
       "      <td>3.400000</td>\n",
       "      <td>0.730000</td>\n",
       "      <td>11.100000</td>\n",
       "      <td>6.000000</td>\n",
       "    </tr>\n",
       "    <tr>\n",
       "      <th>max</th>\n",
       "      <td>15.900000</td>\n",
       "      <td>1.580000</td>\n",
       "      <td>1.000000</td>\n",
       "      <td>15.500000</td>\n",
       "      <td>0.611000</td>\n",
       "      <td>72.000000</td>\n",
       "      <td>289.000000</td>\n",
       "      <td>1.003690</td>\n",
       "      <td>4.010000</td>\n",
       "      <td>2.000000</td>\n",
       "      <td>14.900000</td>\n",
       "      <td>8.000000</td>\n",
       "    </tr>\n",
       "  </tbody>\n",
       "</table>\n",
       "</div>"
      ],
      "text/plain": [
       "       fixed acidity  volatile acidity  citric acid  residual sugar  \\\n",
       "count    1599.000000       1599.000000  1599.000000     1599.000000   \n",
       "mean        8.319637          0.527821     0.270976        2.538806   \n",
       "std         1.741096          0.179060     0.194801        1.409928   \n",
       "min         4.600000          0.120000     0.000000        0.900000   \n",
       "25%         7.100000          0.390000     0.090000        1.900000   \n",
       "50%         7.900000          0.520000     0.260000        2.200000   \n",
       "75%         9.200000          0.640000     0.420000        2.600000   \n",
       "max        15.900000          1.580000     1.000000       15.500000   \n",
       "\n",
       "         chlorides  free sulfur dioxide  total sulfur dioxide      density  \\\n",
       "count  1599.000000          1599.000000           1599.000000  1599.000000   \n",
       "mean      0.087467            15.874922             46.467792     0.996747   \n",
       "std       0.047065            10.460157             32.895324     0.001887   \n",
       "min       0.012000             1.000000              6.000000     0.990070   \n",
       "25%       0.070000             7.000000             22.000000     0.995600   \n",
       "50%       0.079000            14.000000             38.000000     0.996750   \n",
       "75%       0.090000            21.000000             62.000000     0.997835   \n",
       "max       0.611000            72.000000            289.000000     1.003690   \n",
       "\n",
       "                pH    sulphates      alcohol      quality  \n",
       "count  1599.000000  1599.000000  1599.000000  1599.000000  \n",
       "mean      3.311113     0.658149    10.422983     5.636023  \n",
       "std       0.154386     0.169507     1.065668     0.807569  \n",
       "min       2.740000     0.330000     8.400000     3.000000  \n",
       "25%       3.210000     0.550000     9.500000     5.000000  \n",
       "50%       3.310000     0.620000    10.200000     6.000000  \n",
       "75%       3.400000     0.730000    11.100000     6.000000  \n",
       "max       4.010000     2.000000    14.900000     8.000000  "
      ]
     },
     "execution_count": 91,
     "metadata": {},
     "output_type": "execute_result"
    }
   ],
   "source": [
    "df.describe()"
   ]
  },
  {
   "cell_type": "code",
   "execution_count": 92,
   "id": "d4c22ce2",
   "metadata": {},
   "outputs": [
    {
     "data": {
      "text/html": [
       "<div>\n",
       "<style scoped>\n",
       "    .dataframe tbody tr th:only-of-type {\n",
       "        vertical-align: middle;\n",
       "    }\n",
       "\n",
       "    .dataframe tbody tr th {\n",
       "        vertical-align: top;\n",
       "    }\n",
       "\n",
       "    .dataframe thead th {\n",
       "        text-align: right;\n",
       "    }\n",
       "</style>\n",
       "<table border=\"1\" class=\"dataframe\">\n",
       "  <thead>\n",
       "    <tr style=\"text-align: right;\">\n",
       "      <th></th>\n",
       "      <th>fixed acidity</th>\n",
       "      <th>volatile acidity</th>\n",
       "      <th>citric acid</th>\n",
       "      <th>residual sugar</th>\n",
       "      <th>chlorides</th>\n",
       "      <th>free sulfur dioxide</th>\n",
       "      <th>total sulfur dioxide</th>\n",
       "      <th>density</th>\n",
       "      <th>pH</th>\n",
       "      <th>sulphates</th>\n",
       "      <th>alcohol</th>\n",
       "      <th>quality</th>\n",
       "    </tr>\n",
       "  </thead>\n",
       "  <tbody>\n",
       "    <tr>\n",
       "      <th>fixed acidity</th>\n",
       "      <td>1.000000</td>\n",
       "      <td>-0.256131</td>\n",
       "      <td>0.671703</td>\n",
       "      <td>0.114777</td>\n",
       "      <td>0.093705</td>\n",
       "      <td>-0.153794</td>\n",
       "      <td>-0.113181</td>\n",
       "      <td>0.668047</td>\n",
       "      <td>-0.682978</td>\n",
       "      <td>0.183006</td>\n",
       "      <td>-0.061668</td>\n",
       "      <td>0.124052</td>\n",
       "    </tr>\n",
       "    <tr>\n",
       "      <th>volatile acidity</th>\n",
       "      <td>-0.256131</td>\n",
       "      <td>1.000000</td>\n",
       "      <td>-0.552496</td>\n",
       "      <td>0.001918</td>\n",
       "      <td>0.061298</td>\n",
       "      <td>-0.010504</td>\n",
       "      <td>0.076470</td>\n",
       "      <td>0.022026</td>\n",
       "      <td>0.234937</td>\n",
       "      <td>-0.260987</td>\n",
       "      <td>-0.202288</td>\n",
       "      <td>-0.390558</td>\n",
       "    </tr>\n",
       "    <tr>\n",
       "      <th>citric acid</th>\n",
       "      <td>0.671703</td>\n",
       "      <td>-0.552496</td>\n",
       "      <td>1.000000</td>\n",
       "      <td>0.143577</td>\n",
       "      <td>0.203823</td>\n",
       "      <td>-0.060978</td>\n",
       "      <td>0.035533</td>\n",
       "      <td>0.364947</td>\n",
       "      <td>-0.541904</td>\n",
       "      <td>0.312770</td>\n",
       "      <td>0.109903</td>\n",
       "      <td>0.226373</td>\n",
       "    </tr>\n",
       "    <tr>\n",
       "      <th>residual sugar</th>\n",
       "      <td>0.114777</td>\n",
       "      <td>0.001918</td>\n",
       "      <td>0.143577</td>\n",
       "      <td>1.000000</td>\n",
       "      <td>0.055610</td>\n",
       "      <td>0.187049</td>\n",
       "      <td>0.203028</td>\n",
       "      <td>0.355283</td>\n",
       "      <td>-0.085652</td>\n",
       "      <td>0.005527</td>\n",
       "      <td>0.042075</td>\n",
       "      <td>0.013732</td>\n",
       "    </tr>\n",
       "    <tr>\n",
       "      <th>chlorides</th>\n",
       "      <td>0.093705</td>\n",
       "      <td>0.061298</td>\n",
       "      <td>0.203823</td>\n",
       "      <td>0.055610</td>\n",
       "      <td>1.000000</td>\n",
       "      <td>0.005562</td>\n",
       "      <td>0.047400</td>\n",
       "      <td>0.200632</td>\n",
       "      <td>-0.265026</td>\n",
       "      <td>0.371260</td>\n",
       "      <td>-0.221141</td>\n",
       "      <td>-0.128907</td>\n",
       "    </tr>\n",
       "    <tr>\n",
       "      <th>free sulfur dioxide</th>\n",
       "      <td>-0.153794</td>\n",
       "      <td>-0.010504</td>\n",
       "      <td>-0.060978</td>\n",
       "      <td>0.187049</td>\n",
       "      <td>0.005562</td>\n",
       "      <td>1.000000</td>\n",
       "      <td>0.667666</td>\n",
       "      <td>-0.021946</td>\n",
       "      <td>0.070377</td>\n",
       "      <td>0.051658</td>\n",
       "      <td>-0.069408</td>\n",
       "      <td>-0.050656</td>\n",
       "    </tr>\n",
       "    <tr>\n",
       "      <th>total sulfur dioxide</th>\n",
       "      <td>-0.113181</td>\n",
       "      <td>0.076470</td>\n",
       "      <td>0.035533</td>\n",
       "      <td>0.203028</td>\n",
       "      <td>0.047400</td>\n",
       "      <td>0.667666</td>\n",
       "      <td>1.000000</td>\n",
       "      <td>0.071269</td>\n",
       "      <td>-0.066495</td>\n",
       "      <td>0.042947</td>\n",
       "      <td>-0.205654</td>\n",
       "      <td>-0.185100</td>\n",
       "    </tr>\n",
       "    <tr>\n",
       "      <th>density</th>\n",
       "      <td>0.668047</td>\n",
       "      <td>0.022026</td>\n",
       "      <td>0.364947</td>\n",
       "      <td>0.355283</td>\n",
       "      <td>0.200632</td>\n",
       "      <td>-0.021946</td>\n",
       "      <td>0.071269</td>\n",
       "      <td>1.000000</td>\n",
       "      <td>-0.341699</td>\n",
       "      <td>0.148506</td>\n",
       "      <td>-0.496180</td>\n",
       "      <td>-0.174919</td>\n",
       "    </tr>\n",
       "    <tr>\n",
       "      <th>pH</th>\n",
       "      <td>-0.682978</td>\n",
       "      <td>0.234937</td>\n",
       "      <td>-0.541904</td>\n",
       "      <td>-0.085652</td>\n",
       "      <td>-0.265026</td>\n",
       "      <td>0.070377</td>\n",
       "      <td>-0.066495</td>\n",
       "      <td>-0.341699</td>\n",
       "      <td>1.000000</td>\n",
       "      <td>-0.196648</td>\n",
       "      <td>0.205633</td>\n",
       "      <td>-0.057731</td>\n",
       "    </tr>\n",
       "    <tr>\n",
       "      <th>sulphates</th>\n",
       "      <td>0.183006</td>\n",
       "      <td>-0.260987</td>\n",
       "      <td>0.312770</td>\n",
       "      <td>0.005527</td>\n",
       "      <td>0.371260</td>\n",
       "      <td>0.051658</td>\n",
       "      <td>0.042947</td>\n",
       "      <td>0.148506</td>\n",
       "      <td>-0.196648</td>\n",
       "      <td>1.000000</td>\n",
       "      <td>0.093595</td>\n",
       "      <td>0.251397</td>\n",
       "    </tr>\n",
       "    <tr>\n",
       "      <th>alcohol</th>\n",
       "      <td>-0.061668</td>\n",
       "      <td>-0.202288</td>\n",
       "      <td>0.109903</td>\n",
       "      <td>0.042075</td>\n",
       "      <td>-0.221141</td>\n",
       "      <td>-0.069408</td>\n",
       "      <td>-0.205654</td>\n",
       "      <td>-0.496180</td>\n",
       "      <td>0.205633</td>\n",
       "      <td>0.093595</td>\n",
       "      <td>1.000000</td>\n",
       "      <td>0.476166</td>\n",
       "    </tr>\n",
       "    <tr>\n",
       "      <th>quality</th>\n",
       "      <td>0.124052</td>\n",
       "      <td>-0.390558</td>\n",
       "      <td>0.226373</td>\n",
       "      <td>0.013732</td>\n",
       "      <td>-0.128907</td>\n",
       "      <td>-0.050656</td>\n",
       "      <td>-0.185100</td>\n",
       "      <td>-0.174919</td>\n",
       "      <td>-0.057731</td>\n",
       "      <td>0.251397</td>\n",
       "      <td>0.476166</td>\n",
       "      <td>1.000000</td>\n",
       "    </tr>\n",
       "  </tbody>\n",
       "</table>\n",
       "</div>"
      ],
      "text/plain": [
       "                      fixed acidity  volatile acidity  citric acid  \\\n",
       "fixed acidity              1.000000         -0.256131     0.671703   \n",
       "volatile acidity          -0.256131          1.000000    -0.552496   \n",
       "citric acid                0.671703         -0.552496     1.000000   \n",
       "residual sugar             0.114777          0.001918     0.143577   \n",
       "chlorides                  0.093705          0.061298     0.203823   \n",
       "free sulfur dioxide       -0.153794         -0.010504    -0.060978   \n",
       "total sulfur dioxide      -0.113181          0.076470     0.035533   \n",
       "density                    0.668047          0.022026     0.364947   \n",
       "pH                        -0.682978          0.234937    -0.541904   \n",
       "sulphates                  0.183006         -0.260987     0.312770   \n",
       "alcohol                   -0.061668         -0.202288     0.109903   \n",
       "quality                    0.124052         -0.390558     0.226373   \n",
       "\n",
       "                      residual sugar  chlorides  free sulfur dioxide  \\\n",
       "fixed acidity               0.114777   0.093705            -0.153794   \n",
       "volatile acidity            0.001918   0.061298            -0.010504   \n",
       "citric acid                 0.143577   0.203823            -0.060978   \n",
       "residual sugar              1.000000   0.055610             0.187049   \n",
       "chlorides                   0.055610   1.000000             0.005562   \n",
       "free sulfur dioxide         0.187049   0.005562             1.000000   \n",
       "total sulfur dioxide        0.203028   0.047400             0.667666   \n",
       "density                     0.355283   0.200632            -0.021946   \n",
       "pH                         -0.085652  -0.265026             0.070377   \n",
       "sulphates                   0.005527   0.371260             0.051658   \n",
       "alcohol                     0.042075  -0.221141            -0.069408   \n",
       "quality                     0.013732  -0.128907            -0.050656   \n",
       "\n",
       "                      total sulfur dioxide   density        pH  sulphates  \\\n",
       "fixed acidity                    -0.113181  0.668047 -0.682978   0.183006   \n",
       "volatile acidity                  0.076470  0.022026  0.234937  -0.260987   \n",
       "citric acid                       0.035533  0.364947 -0.541904   0.312770   \n",
       "residual sugar                    0.203028  0.355283 -0.085652   0.005527   \n",
       "chlorides                         0.047400  0.200632 -0.265026   0.371260   \n",
       "free sulfur dioxide               0.667666 -0.021946  0.070377   0.051658   \n",
       "total sulfur dioxide              1.000000  0.071269 -0.066495   0.042947   \n",
       "density                           0.071269  1.000000 -0.341699   0.148506   \n",
       "pH                               -0.066495 -0.341699  1.000000  -0.196648   \n",
       "sulphates                         0.042947  0.148506 -0.196648   1.000000   \n",
       "alcohol                          -0.205654 -0.496180  0.205633   0.093595   \n",
       "quality                          -0.185100 -0.174919 -0.057731   0.251397   \n",
       "\n",
       "                       alcohol   quality  \n",
       "fixed acidity        -0.061668  0.124052  \n",
       "volatile acidity     -0.202288 -0.390558  \n",
       "citric acid           0.109903  0.226373  \n",
       "residual sugar        0.042075  0.013732  \n",
       "chlorides            -0.221141 -0.128907  \n",
       "free sulfur dioxide  -0.069408 -0.050656  \n",
       "total sulfur dioxide -0.205654 -0.185100  \n",
       "density              -0.496180 -0.174919  \n",
       "pH                    0.205633 -0.057731  \n",
       "sulphates             0.093595  0.251397  \n",
       "alcohol               1.000000  0.476166  \n",
       "quality               0.476166  1.000000  "
      ]
     },
     "execution_count": 92,
     "metadata": {},
     "output_type": "execute_result"
    }
   ],
   "source": [
    "df.corr()"
   ]
  },
  {
   "cell_type": "code",
   "execution_count": 93,
   "id": "7ced06cc",
   "metadata": {},
   "outputs": [
    {
     "data": {
      "text/plain": [
       "quality                 1.000000\n",
       "alcohol                 0.476166\n",
       "sulphates               0.251397\n",
       "citric acid             0.226373\n",
       "fixed acidity           0.124052\n",
       "residual sugar          0.013732\n",
       "free sulfur dioxide    -0.050656\n",
       "pH                     -0.057731\n",
       "chlorides              -0.128907\n",
       "density                -0.174919\n",
       "total sulfur dioxide   -0.185100\n",
       "volatile acidity       -0.390558\n",
       "Name: quality, dtype: float64"
      ]
     },
     "execution_count": 93,
     "metadata": {},
     "output_type": "execute_result"
    }
   ],
   "source": [
    "df.corr().quality.sort_values(ascending = False)"
   ]
  },
  {
   "cell_type": "code",
   "execution_count": 94,
   "id": "818fb209",
   "metadata": {},
   "outputs": [
    {
     "name": "stderr",
     "output_type": "stream",
     "text": [
      "C:\\Users\\mudit\\AppData\\Local\\Temp\\ipykernel_21316\\3536433112.py:1: UserWarning: \n",
      "\n",
      "`distplot` is a deprecated function and will be removed in seaborn v0.14.0.\n",
      "\n",
      "Please adapt your code to use either `displot` (a figure-level function with\n",
      "similar flexibility) or `histplot` (an axes-level function for histograms).\n",
      "\n",
      "For a guide to updating your code to use the new functions, please see\n",
      "https://gist.github.com/mwaskom/de44147ed2974457ad6372750bbe5751\n",
      "\n",
      "  sns.distplot(df.sulphates)\n"
     ]
    },
    {
     "data": {
      "text/plain": [
       "<Axes: xlabel='sulphates', ylabel='Density'>"
      ]
     },
     "execution_count": 94,
     "metadata": {},
     "output_type": "execute_result"
    },
    {
     "data": {
      "image/png": "[encoded data removed]",
      "text/plain": [
       "<Figure size 640x480 with 1 Axes>"
      ]
     },
     "metadata": {},
     "output_type": "display_data"
    }
   ],
   "source": [
    " sns.distplot(df.sulphates)"
   ]
  },
  {
   "cell_type": "code",
   "execution_count": 95,
   "id": "b75ec7f6",
   "metadata": {},
   "outputs": [
    {
     "data": {
      "text/plain": [
       "<seaborn.axisgrid.FacetGrid at 0x26917a97f70>"
      ]
     },
     "execution_count": 95,
     "metadata": {},
     "output_type": "execute_result"
    },
    {
     "data": {
      "image/png": "[encoded data removed]",
      "text/plain": [
       "<Figure size 500x500 with 1 Axes>"
      ]
     },
     "metadata": {},
     "output_type": "display_data"
    }
   ],
   "source": [
    " sns.displot(df.chlorides)"
   ]
  },
  {
   "cell_type": "code",
   "execution_count": 96,
   "id": "eef0fab4",
   "metadata": {},
   "outputs": [
    {
     "data": {
      "text/plain": [
       "<Axes: xlabel='sulphates', ylabel='pH'>"
      ]
     },
     "execution_count": 96,
     "metadata": {},
     "output_type": "execute_result"
    },
    {
     "data": {
      "image/png": "[encoded data removed]",
      "text/plain": [
       "<Figure size 640x480 with 1 Axes>"
      ]
     },
     "metadata": {},
     "output_type": "display_data"
    }
   ],
   "source": [
    " sns.lineplot(x=df.sulphates, y=df.pH)"
   ]
  },
  {
   "cell_type": "code",
   "execution_count": 97,
   "id": "39ad4aef",
   "metadata": {},
   "outputs": [
    {
     "data": {
      "text/plain": [
       "<Axes: xlabel='alcohol', ylabel='pH'>"
      ]
     },
     "execution_count": 97,
     "metadata": {},
     "output_type": "execute_result"
    },
    {
     "data": {
      "image/png": "[encoded data removed]",
      "text/plain": [
       "<Figure size 640x480 with 1 Axes>"
      ]
     },
     "metadata": {},
     "output_type": "display_data"
    }
   ],
   "source": [
    "sns.scatterplot(x=df.alcohol, y=df.pH)"
   ]
  },
  {
   "cell_type": "code",
   "execution_count": null,
   "id": "4fa4b213",
   "metadata": {},
   "outputs": [
    {
     "data": {
      "text/plain": [
       "<seaborn.axisgrid.PairGrid at 0x26919ed3490>"
      ]
     },
     "execution_count": 98,
     "metadata": {},
     "output_type": "execute_result"
    }
   ],
   "source": [
    "sns.pairplot(df)"
   ]
  },
  {
   "cell_type": "code",
   "execution_count": null,
   "id": "d31f6dd2",
   "metadata": {},
   "outputs": [],
   "source": [
    "sns.heatmap(df.corr(),annot=True)"
   ]
  },
  {
   "cell_type": "code",
   "execution_count": null,
   "id": "55d81f72",
   "metadata": {},
   "outputs": [],
   "source": [
    "df.head()"
   ]
  },
  {
   "cell_type": "code",
   "execution_count": null,
   "id": "8517e6ce",
   "metadata": {},
   "outputs": [],
   "source": [
    "f1 = df['fixed acidity'].quantile(0.25) #Q1\n",
    "f3 = df['fixed acidity'].quantile(0.75) #Q3\n",
    "IQR_f = f3 - f1\n",
    "upper_limit_f = f3+(1.5)*(IQR_f)\n",
    "lower_limit_f = f1-(1.5)*(IQR_f)\n",
    "print(f1)\n",
    "print(f3)\n",
    "print(IQR_f)\n",
    "print(upper_limit_f)\n",
    "print(lower_limit_f)"
   ]
  },
  {
   "cell_type": "code",
   "execution_count": null,
   "id": "24f40392",
   "metadata": {},
   "outputs": [],
   "source": [
    " df=df[(df['fixed acidity']<upper_limit_f) & (df['fixed acidity']>lower_limit_f)]\n",
    "sns.boxplot(df['fixed acidity'])"
   ]
  },
  {
   "cell_type": "code",
   "execution_count": null,
   "id": "eb52cfe8",
   "metadata": {},
   "outputs": [],
   "source": [
    "fa_01=df['fixed acidity'].quantile(0.01)\n",
    "fa_98=df['fixed acidity'].quantile(0.98)\n",
    "print(fa_01)\n",
    "print(fa_98)"
   ]
  },
  {
   "cell_type": "code",
   "execution_count": null,
   "id": "badcd4d0",
   "metadata": {},
   "outputs": [],
   "source": [
    "df=df[(df['fixed acidity']>=fa_01) & (df['fixed acidity']<=fa_98)]\n",
    "sns.boxplot(df['fixed acidity'])\n"
   ]
  },
  {
   "cell_type": "code",
   "execution_count": null,
   "id": "720796f1",
   "metadata": {},
   "outputs": [],
   "source": [
    "v1 = df['volatile acidity'].quantile(0.25) #Q1\n",
    "v3 = df['volatile acidity'].quantile(0.75) #Q3\n",
    "IQR_v = v3 - v1\n",
    "upper_limit_v = v3+(1.5)*(IQR_v)\n",
    "lower_limit_v = v1-(1.5)*(IQR_v)\n",
    "print(v1)\n",
    "print(v3)\n",
    "print(IQR_v)\n",
    "print(upper_limit_v)\n",
    "print(lower_limit_v)"
   ]
  },
  {
   "cell_type": "code",
   "execution_count": null,
   "id": "46a7bac3",
   "metadata": {},
   "outputs": [],
   "source": [
    "df=df[(df['volatile acidity']<upper_limit_v) & (df['volatile acidity']>lower_limit_v)]\n",
    "sns.boxplot(df['volatile acidity'])"
   ]
  },
  {
   "cell_type": "code",
   "execution_count": null,
   "id": "27019d97",
   "metadata": {},
   "outputs": [],
   "source": [
    "c1 = df['citric acid'].quantile(0.25) #Q1\n",
    "c3 = df['citric acid'].quantile(0.75) #Q3\n",
    "IQR_c = c3 - c1\n",
    "upper_limit_c = c3+(1.5)*(IQR_c)\n",
    "lower_limit_c = c1-(1.5)*(IQR_c)\n",
    "print(c1)\n",
    "print(c3)\n",
    "print(IQR_c)\n",
    "print(upper_limit_c)\n",
    "print(lower_limit_c)"
   ]
  },
  {
   "cell_type": "code",
   "execution_count": null,
   "id": "7cb71ad9",
   "metadata": {},
   "outputs": [],
   "source": [
    "df=df[(df['citric acid']<upper_limit_c) & (df['citric acid']>lower_limit_c)]\n",
    "sns.boxplot(df['citric acid'])"
   ]
  },
  {
   "cell_type": "code",
   "execution_count": null,
   "id": "615a1ae8",
   "metadata": {},
   "outputs": [],
   "source": [
    "r1 = df['residual sugar'].quantile(0.25) #Q1\n",
    "r3 = df['residual sugar'].quantile(0.75) #Q3\n",
    "IQR_r = r3 - r1\n",
    "upper_limit_r = r3+(1.5)*(IQR_r)\n",
    "lower_limit_r = r1-(1.5)*(IQR_r)\n",
    "print(r1)\n",
    "print(r3)\n",
    "print(IQR_r)\n",
    "print(upper_limit_r)\n",
    "print(lower_limit_r)"
   ]
  },
  {
   "cell_type": "code",
   "execution_count": null,
   "id": "f67d13e5",
   "metadata": {},
   "outputs": [],
   "source": [
    "df=df[(df['residual sugar']<upper_limit_r) & (df['residual sugar']>lower_limit_r)]\n",
    "sns.boxplot(df['residual sugar'])"
   ]
  },
  {
   "cell_type": "code",
   "execution_count": null,
   "id": "4fd792b3",
   "metadata": {},
   "outputs": [],
   "source": [
    "rs_02=df['residual sugar'].quantile(0.02)\n",
    "rs_96=df['residual sugar'].quantile(0.96)\n",
    "print(rs_02)\n",
    "print(rs_96)"
   ]
  },
  {
   "cell_type": "code",
   "execution_count": null,
   "id": "52a360f9",
   "metadata": {},
   "outputs": [],
   "source": [
    "df=df[(df['residual sugar']>=rs_02) & (df['residual sugar']<=rs_96)]\n",
    "sns.boxplot(df['residual sugar'])\n"
   ]
  },
  {
   "cell_type": "code",
   "execution_count": null,
   "id": "357cf657",
   "metadata": {},
   "outputs": [],
   "source": [
    "ch1 = df.chlorides.quantile(0.25) #Q1\n",
    "ch3 = df.chlorides.quantile(0.75) #Q3\n",
    "IQR_ch = ch3 - ch1\n",
    "upper_limit_ch = ch3+(1.5)*(IQR_ch)\n",
    "lower_limit_ch = ch1-(1.5)*(IQR_ch)\n",
    "print(ch1)\n",
    "print(ch3)\n",
    "print(IQR_ch)\n",
    "print(upper_limit_ch)\n",
    "print(lower_limit_ch)"
   ]
  },
  {
   "cell_type": "code",
   "execution_count": null,
   "id": "39bd69a8",
   "metadata": {},
   "outputs": [],
   "source": [
    "df=df[(df.chlorides<upper_limit_ch) & (df.chlorides>lower_limit_ch)]\n",
    "sns.boxplot(df.chlorides)"
   ]
  },
  {
   "cell_type": "code",
   "execution_count": null,
   "id": "6e46abd1",
   "metadata": {},
   "outputs": [],
   "source": [
    "ch_01=df.chlorides.quantile(0.01)\n",
    "ch_97=df.chlorides.quantile(0.97)\n",
    "print(ch_01)\n",
    "print(ch_97)"
   ]
  },
  {
   "cell_type": "code",
   "execution_count": null,
   "id": "631023c8",
   "metadata": {},
   "outputs": [],
   "source": [
    "df=df[(df.chlorides>=ch_01) & (df.chlorides<=ch_97)]\n",
    "sns.boxplot(df.chlorides)\n"
   ]
  },
  {
   "cell_type": "code",
   "execution_count": null,
   "id": "8fcb08a2",
   "metadata": {},
   "outputs": [],
   "source": [
    "fs1 = df['free sulfur dioxide'].quantile(0.25) #Q1\n",
    "fs3 = df['free sulfur dioxide'].quantile(0.75) #Q3\n",
    "IQR_fs = fs3 - fs1\n",
    "upper_limit_fs = fs3+(1.5)*(IQR_fs)\n",
    "lower_limit_fs = fs1-(1.5)*(IQR_fs)\n",
    "print(fs1)\n",
    "print(fs3)\n",
    "print(IQR_fs)\n",
    "print(upper_limit_fs)\n",
    "print(lower_limit_fs)"
   ]
  },
  {
   "cell_type": "code",
   "execution_count": null,
   "id": "bf805331",
   "metadata": {},
   "outputs": [],
   "source": [
    "df=df[(df['free sulfur dioxide']<upper_limit_fs) & (df['free sulfur dioxide']>lower_limit_fs)]\n",
    "sns.boxplot(df['free sulfur dioxide'])"
   ]
  },
  {
   "cell_type": "code",
   "execution_count": null,
   "id": "01c26b01",
   "metadata": {},
   "outputs": [],
   "source": [
    "ts1 = df['total sulfur dioxide'].quantile(0.25) #Q1\n",
    "ts3 = df['total sulfur dioxide'].quantile(0.75) #Q3\n",
    "IQR_ts = ts3 - ts1\n",
    "upper_limit_ts = ts3+(1.5)*(IQR_ts)\n",
    "lower_limit_ts = ts1-(1.5)*(IQR_ts)\n",
    "print(ts1)\n",
    "print(ts3)\n",
    "print(IQR_ts)\n",
    "print(upper_limit_ts)\n",
    "print(lower_limit_ts)"
   ]
  },
  {
   "cell_type": "code",
   "execution_count": null,
   "id": "877cdbda",
   "metadata": {},
   "outputs": [],
   "source": [
    "df=df[(df['total sulfur dioxide']<upper_limit_ts) & (df['total sulfur dioxide']>lower_limit_ts)]\n",
    "sns.boxplot(df['total sulfur dioxide'])"
   ]
  },
  {
   "cell_type": "code",
   "execution_count": null,
   "id": "e0a902f7",
   "metadata": {},
   "outputs": [],
   "source": [
    "ts_01=df['total sulfur dioxide'].quantile(0.01)\n",
    "ts_97=df['total sulfur dioxide'].quantile(0.97)\n",
    "print(ts_01)\n",
    "print(ts_97)"
   ]
  },
  {
   "cell_type": "code",
   "execution_count": null,
   "id": "a8d75ee9",
   "metadata": {},
   "outputs": [],
   "source": [
    "df=df[(df['total sulfur dioxide']>=ts_01) & (df['total sulfur dioxide']<=ts_97)]\n",
    "sns.boxplot(df['total sulfur dioxide'])\n"
   ]
  },
  {
   "cell_type": "code",
   "execution_count": null,
   "id": "ac876d6d",
   "metadata": {},
   "outputs": [],
   "source": [
    "d1 = df.density.quantile(0.25) #Q1\n",
    "d3 = df.density.quantile(0.75) #Q3\n",
    "IQR_d = d3 - d1\n",
    "upper_limit_d = d3+(1.5)*(IQR_d)\n",
    "lower_limit_d = d1-(1.5)*(IQR_d)\n",
    "print(d1)\n",
    "print(d3)\n",
    "print(IQR_d)\n",
    "print(upper_limit_d)\n",
    "print(lower_limit_d)"
   ]
  },
  {
   "cell_type": "code",
   "execution_count": null,
   "id": "f0968b99",
   "metadata": {},
   "outputs": [],
   "source": [
    "df=df[(df.density<upper_limit_d) & (df.density>lower_limit_d)]\n",
    "sns.boxplot(df.density)\n"
   ]
  },
  {
   "cell_type": "code",
   "execution_count": null,
   "id": "6d637934",
   "metadata": {},
   "outputs": [],
   "source": [
    "d_01=df.density.quantile(0.01)\n",
    "d_99=df.density.quantile(0.99)\n",
    "print(d_01)\n",
    "print(d_99)\n"
   ]
  },
  {
   "cell_type": "code",
   "execution_count": null,
   "id": "724ecb70",
   "metadata": {},
   "outputs": [],
   "source": [
    "df=df[(df.density>=d_01) & (df.density<=d_99)]\n",
    "sns.boxplot(df.density)\n"
   ]
  },
  {
   "cell_type": "code",
   "execution_count": null,
   "id": "58f40a34",
   "metadata": {},
   "outputs": [],
   "source": [
    "pH1 = df.pH.quantile(0.25) #Q1\n",
    "pH3 = df.pH.quantile(0.75) #Q3\n",
    "IQR_pH = pH3 - pH1\n",
    "upper_limit_pH = pH3+(1.5)*(IQR_pH)\n",
    "lower_limit_pH = pH1-(1.5)*(IQR_pH)\n",
    "print(pH1)\n",
    "print(pH3)\n",
    "print(IQR_pH)\n",
    "print(upper_limit_pH)\n",
    "print(lower_limit_pH)"
   ]
  },
  {
   "cell_type": "code",
   "execution_count": null,
   "id": "bb69683e",
   "metadata": {},
   "outputs": [],
   "source": [
    "df=df[(df.pH<upper_limit_pH) & (df.pH>lower_limit_pH)]\n",
    "sns.boxplot(df.pH)"
   ]
  },
  {
   "cell_type": "code",
   "execution_count": null,
   "id": "0a373bb5",
   "metadata": {},
   "outputs": [],
   "source": [
    "pH_01=df.pH.quantile(0.01)\n",
    "pH_99=df.pH.quantile(0.99)\n",
    "print(pH_01)\n",
    "print(pH_99)\n"
   ]
  },
  {
   "cell_type": "code",
   "execution_count": null,
   "id": "4bd092cb",
   "metadata": {},
   "outputs": [],
   "source": [
    "df=df[(df.pH>=pH_01) & (df.pH<=pH_99)]\n",
    "sns.boxplot(df.pH)"
   ]
  },
  {
   "cell_type": "code",
   "execution_count": null,
   "id": "eaa751db",
   "metadata": {},
   "outputs": [],
   "source": [
    "su_01=df.sulphates.quantile(0.01)\n",
    "su_98=df.sulphates.quantile(0.98)\n",
    "print(su_01)\n",
    "print(su_98)"
   ]
  },
  {
   "cell_type": "code",
   "execution_count": null,
   "id": "6874a1b3",
   "metadata": {},
   "outputs": [],
   "source": [
    "df=df[(df.sulphates>=su_01) & (df.sulphates<=su_98)]\n",
    "sns.boxplot(df.sulphates)"
   ]
  },
  {
   "cell_type": "code",
   "execution_count": null,
   "id": "fde0ce5f",
   "metadata": {},
   "outputs": [],
   "source": [
    "a_01=df.alcohol.quantile(0.01)\n",
    "a_99=df.alcohol.quantile(0.99)\n",
    "print(a_01)\n",
    "print(a_99)"
   ]
  },
  {
   "cell_type": "code",
   "execution_count": null,
   "id": "4bce8aa4",
   "metadata": {},
   "outputs": [],
   "source": [
    "df=df[(df.alcohol>=a_01) & (df.alcohol<=a_99)]\n",
    "sns.boxplot(df.alcohol)\n"
   ]
  },
  {
   "cell_type": "code",
   "execution_count": null,
   "id": "4b9087c1",
   "metadata": {},
   "outputs": [],
   "source": [
    "X =df.iloc[:,:-1]\n",
    "X.head()"
   ]
  },
  {
   "cell_type": "code",
   "execution_count": null,
   "id": "2cf3ff46",
   "metadata": {},
   "outputs": [],
   "source": [
    "Y =df.quality\n",
    "Y.head()\n"
   ]
  },
  {
   "cell_type": "code",
   "execution_count": null,
   "id": "6d957b9c",
   "metadata": {},
   "outputs": [],
   "source": [
    "Y = df['quality'].apply(lambda y_value: 1 if y_value>=7 else 0)"
   ]
  },
  {
   "cell_type": "code",
   "execution_count": null,
   "id": "f9ad7a48",
   "metadata": {},
   "outputs": [],
   "source": [
    "print(Y)"
   ]
  },
  {
   "cell_type": "code",
   "execution_count": null,
   "id": "1da031a0",
   "metadata": {},
   "outputs": [],
   "source": [
    "from sklearn.model_selection import train_test_split\n",
    "X_train, X_test, Y_train, Y_test = train_test_split(X, Y, test_size=0.2,random_state=3)"
   ]
  },
  {
   "cell_type": "code",
   "execution_count": null,
   "id": "9823893a",
   "metadata": {},
   "outputs": [],
   "source": [
    "X_train.shape"
   ]
  },
  {
   "cell_type": "code",
   "execution_count": null,
   "id": "97a51f11",
   "metadata": {},
   "outputs": [],
   "source": [
    "X_test.shape"
   ]
  },
  {
   "cell_type": "code",
   "execution_count": null,
   "id": "6f2917a6",
   "metadata": {},
   "outputs": [],
   "source": [
    "print(Y.shape, Y_train.shape, Y_test.shape)"
   ]
  },
  {
   "cell_type": "code",
   "execution_count": null,
   "id": "10f669af",
   "metadata": {},
   "outputs": [],
   "source": []
  },
  {
   "cell_type": "code",
   "execution_count": null,
   "id": "f9289441",
   "metadata": {},
   "outputs": [],
   "source": [
    "from sklearn.tree import DecisionTreeClassifier\n",
    "model1 = DecisionTreeClassifier(max_depth=2,splitter='best',criterion='entropy')\n",
    "model1.fit(X_train,Y_train)\n"
   ]
  },
  {
   "cell_type": "code",
   "execution_count": null,
   "id": "a6121717",
   "metadata": {},
   "outputs": [],
   "source": [
    "d_y_predict = model1.predict(X_test)\n",
    "d_y_predict"
   ]
  },
  {
   "cell_type": "code",
   "execution_count": null,
   "id": "1ace1af7",
   "metadata": {},
   "outputs": [],
   "source": [
    "d_y_predict_train = model1.predict(X_train)"
   ]
  },
  {
   "cell_type": "code",
   "execution_count": null,
   "id": "14a7538e",
   "metadata": {},
   "outputs": [],
   "source": [
    "from sklearn.metrics import accuracy_score,classification_report,confusion_matrix\n",
    "print('Testing Accuracy = ', accuracy_score(Y_test,d_y_predict))\n",
    "print('Training Accuracy = ', accuracy_score(Y_train,d_y_predict_train))"
   ]
  },
  {
   "cell_type": "code",
   "execution_count": null,
   "id": "28db5b08",
   "metadata": {},
   "outputs": [],
   "source": [
    "from sklearn.ensemble import RandomForestClassifier\n",
    "model2 =RandomForestClassifier(n_estimators=200,criterion='entropy')\n",
    "model2.fit(X_train,Y_train)\n"
   ]
  },
  {
   "cell_type": "code",
   "execution_count": null,
   "id": "4baf5975",
   "metadata": {},
   "outputs": [],
   "source": [
    "r_y_predict = model2.predict(X_test)\n",
    "r_y_predict_train = model2.predict(X_train)\n"
   ]
  },
  {
   "cell_type": "code",
   "execution_count": null,
   "id": "a832202a",
   "metadata": {},
   "outputs": [],
   "source": [
    "print('Testing Accuracy = ', accuracy_score(Y_test,r_y_predict))\n",
    "print('Training Accuracy = ', accuracy_score(Y_train,r_y_predict_train))"
   ]
  },
  {
   "cell_type": "code",
   "execution_count": null,
   "id": "d0c45161",
   "metadata": {},
   "outputs": [],
   "source": [
    "from sklearn.naive_bayes import GaussianNB\n",
    "gnb = GaussianNB()\n",
    "gnb.fit(X_train,Y_train)"
   ]
  },
  {
   "cell_type": "code",
   "execution_count": null,
   "id": "d6fd9909",
   "metadata": {},
   "outputs": [],
   "source": [
    "y_pred2 = gnb.predict(X_test)\n",
    "y_pred2"
   ]
  },
  {
   "cell_type": "code",
   "execution_count": null,
   "id": "8579de56",
   "metadata": {},
   "outputs": [],
   "source": [
    "from sklearn.metrics import accuracy_score\n",
    "gnb_acc=accuracy_score(Y_test,y_pred2)\n",
    "gnb_acc"
   ]
  },
  {
   "cell_type": "code",
   "execution_count": null,
   "id": "32093446",
   "metadata": {},
   "outputs": [],
   "source": []
  },
  {
   "cell_type": "code",
   "execution_count": null,
   "id": "bfa9262c",
   "metadata": {},
   "outputs": [],
   "source": []
  },
  {
   "cell_type": "code",
   "execution_count": null,
   "id": "e71447ce",
   "metadata": {},
   "outputs": [],
   "source": [
    "input_data = [7.9, 1.0, 0, 3.0, 0.08, 30, 100, 0.9562, 3.1, 0.74, 11.5]\n",
    "prediction = model1.predict([input_data])\n",
    "prediction"
   ]
  },
  {
   "cell_type": "code",
   "execution_count": null,
   "id": "9509b547",
   "metadata": {},
   "outputs": [],
   "source": [
    "input_data_2 = [7.9, 1.0, 0, 3.0, 0.08, 30, 100, 0.9562, 3.1, 0.74, 11.5]\n",
    "prediction2 = model2.predict([input_data_2])\n",
    "prediction2"
   ]
  },
  {
   "cell_type": "code",
   "execution_count": null,
   "id": "34864b7c",
   "metadata": {},
   "outputs": [],
   "source": [
    "input_data_3 = [7.9, 1.0, 0, 3.0, 0.08, 30, 100, 0.9562, 3.1, 0.74, 11.5]\n",
    "prediction3 = gnb.predict([input_data_3])\n",
    "prediction3"
   ]
  },
  {
   "cell_type": "code",
   "execution_count": null,
   "id": "763c7661",
   "metadata": {},
   "outputs": [],
   "source": []
  },
  {
   "cell_type": "code",
   "execution_count": null,
   "id": "d2b58f1b",
   "metadata": {},
   "outputs": [],
   "source": []
  }
 ],
 "metadata": {
  "kernelspec": {
   "display_name": "Python 3 (ipykernel)",
   "language": "python",
   "name": "python3"
  },
  "language_info": {
   "codemirror_mode": {
    "name": "ipython",
    "version": 3
   },
   "file_extension": ".py",
   "mimetype": "text/x-python",
   "name": "python",
   "nbconvert_exporter": "python",
   "pygments_lexer": "ipython3",
   "version": "3.10.9"
  }
 },
 "nbformat": 4,
 "nbformat_minor": 5
}
